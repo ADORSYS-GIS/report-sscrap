{
 "cells": [
  {
   "cell_type": "code",
   "execution_count": null,
   "metadata": {},
   "outputs": [],
   "source": [
    "import unittest\n",
    "import pandas as pd\n",
    "from analysis import perform_analyses"
   ]
  },
  {
   "cell_type": "code",
   "execution_count": 2,
   "metadata": {},
   "outputs": [],
   "source": [
    "def test_perform_analyses_with_json(self):\n",
    "        # Here, we create a JSON string as an example input\n",
    "        json_data = \"\"\"\n",
    "        [\n",
    "            {\"url\": \"http://www.alibaba.com\", \"char_count\": 100, \"image_count\": 2},\n",
    "            {\"url\": \"http://www.booking.com\", \"char_count\": 200, \"image_count\": 3}\n",
    "        ]\n",
    "        \"\"\"\n",
    "        # We save this JSON string to a file\n",
    "        with open('data.json', 'w') as f:\n",
    "            f.write(json_data)\n",
    "\n",
    "        # Now, we call our analysis function with the JSON file\n",
    "        perform_analyses('data.json')\n",
    "\n",
    "        # We read the data back from the file to a pandas DataFrame\n",
    "        df = pd.read_json('data.json')\n",
    "\n",
    "        # We check if the number of websites analyzed is correct\n",
    "        self.assertEqual(df.shape[0], 2)\n",
    "\n",
    "        # We check if the average character count is correct\n",
    "        self.assertAlmostEqual(df['char_count'].mean(), 150)\n",
    "\n",
    "        # We check if the average image count is correct\n",
    "        self.assertAlmostEqual(df['image_count'].mean(), 2.5)"
   ]
  },
  {
   "cell_type": "code",
   "execution_count": 3,
   "metadata": {},
   "outputs": [],
   "source": [
    "def test_perform_analyses_with_csv(self):\n",
    "        # Here, we create a CSV string as an example input\n",
    "        csv_data =  \"\"\" url,char_count,image_count\n",
    "                        http://www.alibaba.com,100,2\n",
    "                        http://www.booking.com,200,3\n",
    "                    \"\"\"\n",
    "        # We save this CSV string to a file\n",
    "        with open('data.csv', 'w') as f:\n",
    "            f.write(csv_data)\n",
    "\n",
    "        # Now, we call our analysis function with the CSV file\n",
    "        perform_analyses('data.csv')\n",
    "\n",
    "        # We read the data back from the file to a pandas DataFrame\n",
    "        df = pd.read_csv('data.csv')\n",
    "\n",
    "        # We check if the number of websites analyzed is correct\n",
    "        self.assertEqual(df.shape[0], 2)\n",
    "\n",
    "        # We check if the average character count is correct\n",
    "        self.assertAlmostEqual(df['char_count'].mean(), 150)\n",
    "\n",
    "        # We check if the average image count is correct\n",
    "        self.assertAlmostEqual(df['image_count'].mean(), 2.5)"
   ]
  }
 ],
 "metadata": {
  "kernelspec": {
   "display_name": "venv",
   "language": "python",
   "name": "python3"
  },
  "language_info": {
   "codemirror_mode": {
    "name": "ipython",
    "version": 3
   },
   "file_extension": ".py",
   "mimetype": "text/x-python",
   "name": "python",
   "nbconvert_exporter": "python",
   "pygments_lexer": "ipython3",
   "version": "3.10.12"
  }
 },
 "nbformat": 4,
 "nbformat_minor": 2
}
