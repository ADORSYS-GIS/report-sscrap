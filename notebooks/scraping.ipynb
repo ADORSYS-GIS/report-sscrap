{
 "cells": [
  {
   "cell_type": "code",
   "execution_count": 1,
   "metadata": {},
   "outputs": [
    {
     "data": {
      "text/plain": [
       "{'url': 'https://chromedriver.chromium.org/downloads',\n",
       " 'text': ['If you are using Chrome version 115 or newer, please consult the Chrome for Testing availability dashboard. This page provides convenient JSON endpoints for specific ChromeDriver version downloading.'],\n",
       " 'total_text': 'If you are using Chrome version 115 or newer, please consult the Chrome for Testing availability dashboard. This page provides convenient JSON endpoints for specific ChromeDriver version downloading.',\n",
       " 'images': []}"
      ]
     },
     "execution_count": 1,
     "metadata": {},
     "output_type": "execute_result"
    }
   ],
   "source": [
    "from scraping import scrape_website, save_to_csv,clear_csv_file\n",
    "\n",
    "scrape_website( 'https://chromedriver.chromium.org/downloads' , 1, 'text')"
   ]
  },
  {
   "cell_type": "code",
   "execution_count": 3,
   "metadata": {},
   "outputs": [
    {
     "name": "stdout",
     "output_type": "stream",
     "text": [
      "Error scraping data from https://chromedriver.chromium.org/downloads: HTTPSConnectionPool(host='chromedriver.chromium.org', port=443): Max retries exceeded with url: /downloads (Caused by NewConnectionError('<urllib3.connection.HTTPSConnection object at 0x7ff7e168af20>: Failed to establish a new connection: [Errno -3] Temporary failure in name resolution'))\n"
     ]
    },
    {
     "data": {
      "text/plain": [
       "{'url': 'https://chromedriver.chromium.org/downloads',\n",
       " 'text': [],\n",
       " 'total_text': '',\n",
       " 'images': []}"
      ]
     },
     "execution_count": 3,
     "metadata": {},
     "output_type": "execute_result"
    }
   ],
   "source": [
    "from scraping import scrape_website, save_to_csv,clear_csv_file\n",
    "\n",
    "scrape_website( 'https://chromedriver.chromium.org/downloads' , 1, 'text')"
   ]
  },
  {
   "cell_type": "code",
   "execution_count": 5,
   "metadata": {},
   "outputs": [
    {
     "data": {
      "text/plain": [
       "{'url': 'https://chromedriver.chromium.org/downloads',\n",
       " 'text': ['If you are using Chrome version 115 or newer, please consult the Chrome for Testing availability dashboard. This page provides convenient JSON endpoints for specific ChromeDriver version downloading.'],\n",
       " 'total_text': 'If you are using Chrome version 115 or newer, please consult the Chrome for Testing availability dashboard. This page provides convenient JSON endpoints for specific ChromeDriver version downloading.',\n",
       " 'images': []}"
      ]
     },
     "execution_count": 5,
     "metadata": {},
     "output_type": "execute_result"
    }
   ],
   "source": [
    "from scraping import scrape_website, save_to_csv,clear_csv_file\n",
    "\n",
    "scrape_website( 'https://chromedriver.chromium.org/downloads' , 1, 'text')"
   ]
  },
  {
   "cell_type": "code",
   "execution_count": null,
   "metadata": {},
   "outputs": [],
   "source": []
  }
 ],
 "metadata": {
  "kernelspec": {
   "display_name": "Python 3",
   "language": "python",
   "name": "python3"
  },
  "language_info": {
   "codemirror_mode": {
    "name": "ipython",
    "version": 3
   },
   "file_extension": ".py",
   "mimetype": "text/x-python",
   "name": "python",
   "nbconvert_exporter": "python",
   "pygments_lexer": "ipython3",
   "version": "3.10.12"
  }
 },
 "nbformat": 4,
 "nbformat_minor": 2
}
